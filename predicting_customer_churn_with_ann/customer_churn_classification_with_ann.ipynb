{
 "cells": [
  {
   "cell_type": "markdown",
   "metadata": {},
   "source": [
    "## Customer Churn Prediction Using ANN"
   ]
  },
  {
   "cell_type": "code",
   "execution_count": 60,
   "metadata": {
    "collapsed": true
   },
   "outputs": [],
   "source": [
    "import pandas as pd\n",
    "import matplotlib.pyplot as plt\n",
    "import seaborn as sns"
   ]
  },
  {
   "cell_type": "code",
   "execution_count": 61,
   "metadata": {},
   "outputs": [],
   "source": [
    "## importing the dataset\n",
    "\n",
    "dataset = pd.read_csv('Churn_Modelling.csv')\n"
   ]
  },
  {
   "cell_type": "code",
   "execution_count": 62,
   "metadata": {
    "collapsed": true
   },
   "outputs": [],
   "source": [
    "X = dataset.iloc[:,3:13].values  ## as 1st 3 columns are not significant in predicting if customer will exit , so drop them\n",
    "y = dataset.iloc[:,13].values   ## exited column"
   ]
  },
  {
   "cell_type": "code",
   "execution_count": 63,
   "metadata": {},
   "outputs": [
    {
     "data": {
      "text/html": [
       "<div>\n",
       "<style>\n",
       "    .dataframe thead tr:only-child th {\n",
       "        text-align: right;\n",
       "    }\n",
       "\n",
       "    .dataframe thead th {\n",
       "        text-align: left;\n",
       "    }\n",
       "\n",
       "    .dataframe tbody tr th {\n",
       "        vertical-align: top;\n",
       "    }\n",
       "</style>\n",
       "<table border=\"1\" class=\"dataframe\">\n",
       "  <thead>\n",
       "    <tr style=\"text-align: right;\">\n",
       "      <th></th>\n",
       "      <th>RowNumber</th>\n",
       "      <th>CustomerId</th>\n",
       "      <th>Surname</th>\n",
       "      <th>CreditScore</th>\n",
       "      <th>Geography</th>\n",
       "      <th>Gender</th>\n",
       "      <th>Age</th>\n",
       "      <th>Tenure</th>\n",
       "      <th>Balance</th>\n",
       "      <th>NumOfProducts</th>\n",
       "      <th>HasCrCard</th>\n",
       "      <th>IsActiveMember</th>\n",
       "      <th>EstimatedSalary</th>\n",
       "      <th>Exited</th>\n",
       "    </tr>\n",
       "  </thead>\n",
       "  <tbody>\n",
       "    <tr>\n",
       "      <th>0</th>\n",
       "      <td>1</td>\n",
       "      <td>15634602</td>\n",
       "      <td>Hargrave</td>\n",
       "      <td>619</td>\n",
       "      <td>France</td>\n",
       "      <td>Female</td>\n",
       "      <td>42</td>\n",
       "      <td>2</td>\n",
       "      <td>0.00</td>\n",
       "      <td>1</td>\n",
       "      <td>1</td>\n",
       "      <td>1</td>\n",
       "      <td>101348.88</td>\n",
       "      <td>1</td>\n",
       "    </tr>\n",
       "    <tr>\n",
       "      <th>1</th>\n",
       "      <td>2</td>\n",
       "      <td>15647311</td>\n",
       "      <td>Hill</td>\n",
       "      <td>608</td>\n",
       "      <td>Spain</td>\n",
       "      <td>Female</td>\n",
       "      <td>41</td>\n",
       "      <td>1</td>\n",
       "      <td>83807.86</td>\n",
       "      <td>1</td>\n",
       "      <td>0</td>\n",
       "      <td>1</td>\n",
       "      <td>112542.58</td>\n",
       "      <td>0</td>\n",
       "    </tr>\n",
       "    <tr>\n",
       "      <th>2</th>\n",
       "      <td>3</td>\n",
       "      <td>15619304</td>\n",
       "      <td>Onio</td>\n",
       "      <td>502</td>\n",
       "      <td>France</td>\n",
       "      <td>Female</td>\n",
       "      <td>42</td>\n",
       "      <td>8</td>\n",
       "      <td>159660.80</td>\n",
       "      <td>3</td>\n",
       "      <td>1</td>\n",
       "      <td>0</td>\n",
       "      <td>113931.57</td>\n",
       "      <td>1</td>\n",
       "    </tr>\n",
       "    <tr>\n",
       "      <th>3</th>\n",
       "      <td>4</td>\n",
       "      <td>15701354</td>\n",
       "      <td>Boni</td>\n",
       "      <td>699</td>\n",
       "      <td>France</td>\n",
       "      <td>Female</td>\n",
       "      <td>39</td>\n",
       "      <td>1</td>\n",
       "      <td>0.00</td>\n",
       "      <td>2</td>\n",
       "      <td>0</td>\n",
       "      <td>0</td>\n",
       "      <td>93826.63</td>\n",
       "      <td>0</td>\n",
       "    </tr>\n",
       "    <tr>\n",
       "      <th>4</th>\n",
       "      <td>5</td>\n",
       "      <td>15737888</td>\n",
       "      <td>Mitchell</td>\n",
       "      <td>850</td>\n",
       "      <td>Spain</td>\n",
       "      <td>Female</td>\n",
       "      <td>43</td>\n",
       "      <td>2</td>\n",
       "      <td>125510.82</td>\n",
       "      <td>1</td>\n",
       "      <td>1</td>\n",
       "      <td>1</td>\n",
       "      <td>79084.10</td>\n",
       "      <td>0</td>\n",
       "    </tr>\n",
       "  </tbody>\n",
       "</table>\n",
       "</div>"
      ],
      "text/plain": [
       "   RowNumber  CustomerId   Surname  CreditScore Geography  Gender  Age  \\\n",
       "0          1    15634602  Hargrave          619    France  Female   42   \n",
       "1          2    15647311      Hill          608     Spain  Female   41   \n",
       "2          3    15619304      Onio          502    France  Female   42   \n",
       "3          4    15701354      Boni          699    France  Female   39   \n",
       "4          5    15737888  Mitchell          850     Spain  Female   43   \n",
       "\n",
       "   Tenure    Balance  NumOfProducts  HasCrCard  IsActiveMember  \\\n",
       "0       2       0.00              1          1               1   \n",
       "1       1   83807.86              1          0               1   \n",
       "2       8  159660.80              3          1               0   \n",
       "3       1       0.00              2          0               0   \n",
       "4       2  125510.82              1          1               1   \n",
       "\n",
       "   EstimatedSalary  Exited  \n",
       "0        101348.88       1  \n",
       "1        112542.58       0  \n",
       "2        113931.57       1  \n",
       "3         93826.63       0  \n",
       "4         79084.10       0  "
      ]
     },
     "execution_count": 63,
     "metadata": {},
     "output_type": "execute_result"
    }
   ],
   "source": [
    "dataset.head()"
   ]
  },
  {
   "cell_type": "code",
   "execution_count": 64,
   "metadata": {},
   "outputs": [
    {
     "data": {
      "text/html": [
       "<div>\n",
       "<style>\n",
       "    .dataframe thead tr:only-child th {\n",
       "        text-align: right;\n",
       "    }\n",
       "\n",
       "    .dataframe thead th {\n",
       "        text-align: left;\n",
       "    }\n",
       "\n",
       "    .dataframe tbody tr th {\n",
       "        vertical-align: top;\n",
       "    }\n",
       "</style>\n",
       "<table border=\"1\" class=\"dataframe\">\n",
       "  <thead>\n",
       "    <tr style=\"text-align: right;\">\n",
       "      <th></th>\n",
       "      <th>RowNumber</th>\n",
       "      <th>CustomerId</th>\n",
       "      <th>CreditScore</th>\n",
       "      <th>Age</th>\n",
       "      <th>Tenure</th>\n",
       "      <th>Balance</th>\n",
       "      <th>NumOfProducts</th>\n",
       "      <th>HasCrCard</th>\n",
       "      <th>IsActiveMember</th>\n",
       "      <th>EstimatedSalary</th>\n",
       "      <th>Exited</th>\n",
       "    </tr>\n",
       "  </thead>\n",
       "  <tbody>\n",
       "    <tr>\n",
       "      <th>count</th>\n",
       "      <td>10000.00000</td>\n",
       "      <td>1.000000e+04</td>\n",
       "      <td>10000.000000</td>\n",
       "      <td>10000.000000</td>\n",
       "      <td>10000.000000</td>\n",
       "      <td>10000.000000</td>\n",
       "      <td>10000.000000</td>\n",
       "      <td>10000.00000</td>\n",
       "      <td>10000.000000</td>\n",
       "      <td>10000.000000</td>\n",
       "      <td>10000.000000</td>\n",
       "    </tr>\n",
       "    <tr>\n",
       "      <th>mean</th>\n",
       "      <td>5000.50000</td>\n",
       "      <td>1.569094e+07</td>\n",
       "      <td>650.528800</td>\n",
       "      <td>38.921800</td>\n",
       "      <td>5.012800</td>\n",
       "      <td>76485.889288</td>\n",
       "      <td>1.530200</td>\n",
       "      <td>0.70550</td>\n",
       "      <td>0.515100</td>\n",
       "      <td>100090.239881</td>\n",
       "      <td>0.203700</td>\n",
       "    </tr>\n",
       "    <tr>\n",
       "      <th>std</th>\n",
       "      <td>2886.89568</td>\n",
       "      <td>7.193619e+04</td>\n",
       "      <td>96.653299</td>\n",
       "      <td>10.487806</td>\n",
       "      <td>2.892174</td>\n",
       "      <td>62397.405202</td>\n",
       "      <td>0.581654</td>\n",
       "      <td>0.45584</td>\n",
       "      <td>0.499797</td>\n",
       "      <td>57510.492818</td>\n",
       "      <td>0.402769</td>\n",
       "    </tr>\n",
       "    <tr>\n",
       "      <th>min</th>\n",
       "      <td>1.00000</td>\n",
       "      <td>1.556570e+07</td>\n",
       "      <td>350.000000</td>\n",
       "      <td>18.000000</td>\n",
       "      <td>0.000000</td>\n",
       "      <td>0.000000</td>\n",
       "      <td>1.000000</td>\n",
       "      <td>0.00000</td>\n",
       "      <td>0.000000</td>\n",
       "      <td>11.580000</td>\n",
       "      <td>0.000000</td>\n",
       "    </tr>\n",
       "    <tr>\n",
       "      <th>25%</th>\n",
       "      <td>2500.75000</td>\n",
       "      <td>1.562853e+07</td>\n",
       "      <td>584.000000</td>\n",
       "      <td>32.000000</td>\n",
       "      <td>3.000000</td>\n",
       "      <td>0.000000</td>\n",
       "      <td>1.000000</td>\n",
       "      <td>0.00000</td>\n",
       "      <td>0.000000</td>\n",
       "      <td>51002.110000</td>\n",
       "      <td>0.000000</td>\n",
       "    </tr>\n",
       "    <tr>\n",
       "      <th>50%</th>\n",
       "      <td>5000.50000</td>\n",
       "      <td>1.569074e+07</td>\n",
       "      <td>652.000000</td>\n",
       "      <td>37.000000</td>\n",
       "      <td>5.000000</td>\n",
       "      <td>97198.540000</td>\n",
       "      <td>1.000000</td>\n",
       "      <td>1.00000</td>\n",
       "      <td>1.000000</td>\n",
       "      <td>100193.915000</td>\n",
       "      <td>0.000000</td>\n",
       "    </tr>\n",
       "    <tr>\n",
       "      <th>75%</th>\n",
       "      <td>7500.25000</td>\n",
       "      <td>1.575323e+07</td>\n",
       "      <td>718.000000</td>\n",
       "      <td>44.000000</td>\n",
       "      <td>7.000000</td>\n",
       "      <td>127644.240000</td>\n",
       "      <td>2.000000</td>\n",
       "      <td>1.00000</td>\n",
       "      <td>1.000000</td>\n",
       "      <td>149388.247500</td>\n",
       "      <td>0.000000</td>\n",
       "    </tr>\n",
       "    <tr>\n",
       "      <th>max</th>\n",
       "      <td>10000.00000</td>\n",
       "      <td>1.581569e+07</td>\n",
       "      <td>850.000000</td>\n",
       "      <td>92.000000</td>\n",
       "      <td>10.000000</td>\n",
       "      <td>250898.090000</td>\n",
       "      <td>4.000000</td>\n",
       "      <td>1.00000</td>\n",
       "      <td>1.000000</td>\n",
       "      <td>199992.480000</td>\n",
       "      <td>1.000000</td>\n",
       "    </tr>\n",
       "  </tbody>\n",
       "</table>\n",
       "</div>"
      ],
      "text/plain": [
       "         RowNumber    CustomerId   CreditScore           Age        Tenure  \\\n",
       "count  10000.00000  1.000000e+04  10000.000000  10000.000000  10000.000000   \n",
       "mean    5000.50000  1.569094e+07    650.528800     38.921800      5.012800   \n",
       "std     2886.89568  7.193619e+04     96.653299     10.487806      2.892174   \n",
       "min        1.00000  1.556570e+07    350.000000     18.000000      0.000000   \n",
       "25%     2500.75000  1.562853e+07    584.000000     32.000000      3.000000   \n",
       "50%     5000.50000  1.569074e+07    652.000000     37.000000      5.000000   \n",
       "75%     7500.25000  1.575323e+07    718.000000     44.000000      7.000000   \n",
       "max    10000.00000  1.581569e+07    850.000000     92.000000     10.000000   \n",
       "\n",
       "             Balance  NumOfProducts    HasCrCard  IsActiveMember  \\\n",
       "count   10000.000000   10000.000000  10000.00000    10000.000000   \n",
       "mean    76485.889288       1.530200      0.70550        0.515100   \n",
       "std     62397.405202       0.581654      0.45584        0.499797   \n",
       "min         0.000000       1.000000      0.00000        0.000000   \n",
       "25%         0.000000       1.000000      0.00000        0.000000   \n",
       "50%     97198.540000       1.000000      1.00000        1.000000   \n",
       "75%    127644.240000       2.000000      1.00000        1.000000   \n",
       "max    250898.090000       4.000000      1.00000        1.000000   \n",
       "\n",
       "       EstimatedSalary        Exited  \n",
       "count     10000.000000  10000.000000  \n",
       "mean     100090.239881      0.203700  \n",
       "std       57510.492818      0.402769  \n",
       "min          11.580000      0.000000  \n",
       "25%       51002.110000      0.000000  \n",
       "50%      100193.915000      0.000000  \n",
       "75%      149388.247500      0.000000  \n",
       "max      199992.480000      1.000000  "
      ]
     },
     "execution_count": 64,
     "metadata": {},
     "output_type": "execute_result"
    }
   ],
   "source": [
    "dataset.describe()"
   ]
  },
  {
   "cell_type": "code",
   "execution_count": 65,
   "metadata": {},
   "outputs": [
    {
     "name": "stdout",
     "output_type": "stream",
     "text": [
      "<class 'pandas.core.frame.DataFrame'>\n",
      "RangeIndex: 10000 entries, 0 to 9999\n",
      "Data columns (total 14 columns):\n",
      "RowNumber          10000 non-null int64\n",
      "CustomerId         10000 non-null int64\n",
      "Surname            10000 non-null object\n",
      "CreditScore        10000 non-null int64\n",
      "Geography          10000 non-null object\n",
      "Gender             10000 non-null object\n",
      "Age                10000 non-null int64\n",
      "Tenure             10000 non-null int64\n",
      "Balance            10000 non-null float64\n",
      "NumOfProducts      10000 non-null int64\n",
      "HasCrCard          10000 non-null int64\n",
      "IsActiveMember     10000 non-null int64\n",
      "EstimatedSalary    10000 non-null float64\n",
      "Exited             10000 non-null int64\n",
      "dtypes: float64(2), int64(9), object(3)\n",
      "memory usage: 1.1+ MB\n"
     ]
    }
   ],
   "source": [
    "dataset.info()"
   ]
  },
  {
   "cell_type": "code",
   "execution_count": 69,
   "metadata": {},
   "outputs": [
    {
     "data": {
      "image/png": "[encoded data removed]",
      "text/plain": [
       "<Figure size 960x800 with 2 Axes>"
      ]
     },
     "execution_count": 69,
     "metadata": {},
     "output_type": "execute_result"
    }
   ],
   "source": [
    "plt.figure(figsize=(12,10), dpi= 80)\n",
    "\n",
    "sns.heatmap(dataset.corr(), xticklabels=dataset.corr().columns, yticklabels=dataset.corr().columns, cmap='RdYlGn', center=0, annot=True)\n",
    "\n",
    "plt.title('Correlogram of mtcars', fontsize=22)\n",
    "plt.xticks(fontsize=12)\n",
    "plt.yticks(fontsize=12)\n",
    "plt.gcf()"
   ]
  },
  {
   "cell_type": "code",
   "execution_count": 74,
   "metadata": {},
   "outputs": [
    {
     "data": {
      "image/png": "[encoded data removed]",
      "text/plain": [
       "<Figure size 806.4x252 with 3 Axes>"
      ]
     },
     "execution_count": 74,
     "metadata": {},
     "output_type": "execute_result"
    }
   ],
   "source": [
    "\n",
    "g = sns.catplot(\"Gender\", col=\"Geography\", col_wrap=4,\n",
    "                data=dataset[dataset.Geography.notnull()],\n",
    "                kind=\"count\", height=3.5, aspect=.8, \n",
    "                palette='tab20')\n",
    "    \n",
    "#plt.figure.suptitle('sf')\n",
    "plt.gcf()"
   ]
  },
  {
   "cell_type": "code",
   "execution_count": 67,
   "metadata": {
    "collapsed": true
   },
   "outputs": [],
   "source": [
    "X = dataset.iloc[:,3:13].values ## as 1st 3 columns are not significant in predicting if customer will exit , so drop them\n",
    "y = dataset.iloc[:,13].values   ## exited column"
   ]
  },
  {
   "cell_type": "code",
   "execution_count": 68,
   "metadata": {
    "collapsed": true
   },
   "outputs": [],
   "source": [
    "\n",
    "# Encoding categorical data\n",
    "from sklearn.preprocessing import LabelEncoder, OneHotEncoder\n",
    "labelencoder_X_country = LabelEncoder()     ## encoding country variable to integer\n",
    "X[:, 1] = labelencoder_X_country.fit_transform(X[:, 1])\n",
    "\n",
    "labelencoder_X_gender= LabelEncoder()     ## encoding gender variable to integer\n",
    "X[:, 2] = labelencoder_X_gender.fit_transform(X[:, 2])\n"
   ]
  },
  {
   "cell_type": "code",
   "execution_count": 52,
   "metadata": {},
   "outputs": [
    {
     "name": "stderr",
     "output_type": "stream",
     "text": [
      "C:\\Users\\dhruv\\Anaconda3\\envs\\tfdeeplearning\\lib\\site-packages\\sklearn\\preprocessing\\_encoders.py:363: FutureWarning: The handling of integer data will change in version 0.22. Currently, the categories are determined based on the range [0, max(values)], while in the future they will be determined based on the unique values.\n",
      "If you want the future behaviour and silence this warning, you can specify \"categories='auto'\".\n",
      "In case you used a LabelEncoder before this OneHotEncoder to convert the categories to integers, then you can now use the OneHotEncoder directly.\n",
      "  warnings.warn(msg, FutureWarning)\n",
      "C:\\Users\\dhruv\\Anaconda3\\envs\\tfdeeplearning\\lib\\site-packages\\sklearn\\preprocessing\\_encoders.py:385: DeprecationWarning: The 'categorical_features' keyword is deprecated in version 0.20 and will be removed in 0.22. You can use the ColumnTransformer instead.\n",
      "  \"use the ColumnTransformer instead.\", DeprecationWarning)\n"
     ]
    }
   ],
   "source": [
    "\n",
    "## for creating dummy variables for our country class as there are 3 countries\n",
    "onehotencoder = OneHotEncoder(categorical_features = [1])\n",
    "X = onehotencoder.fit_transform(X).toarray()\n"
   ]
  },
  {
   "cell_type": "code",
   "execution_count": 53,
   "metadata": {
    "collapsed": true
   },
   "outputs": [],
   "source": [
    "\n",
    "## now we can see that our country variable has been converted into dummy variables \n",
    "## now we could remove one column to avoid dummy variable trap\n",
    "X = X[:,1:]   # all except 1'st column\n",
    "\n",
    "# Splitting the dataset into the Training set and Test set\n",
    "from sklearn.model_selection import train_test_split  \n",
    "X_train, X_test, y_train, y_test = train_test_split(X, y, test_size = 0.2, random_state = 0)\n"
   ]
  },
  {
   "cell_type": "code",
   "execution_count": 54,
   "metadata": {
    "collapsed": true
   },
   "outputs": [],
   "source": [
    "\n",
    "# Feature Scaling\n",
    "from sklearn.preprocessing import StandardScaler\n",
    "sc = StandardScaler()\n",
    "X_train = sc.fit_transform(X_train)\n",
    "X_test = sc.transform(X_test)\n"
   ]
  },
  {
   "cell_type": "code",
   "execution_count": 56,
   "metadata": {},
   "outputs": [],
   "source": [
    "\n",
    "## import libraries for our DL model\n",
    "import keras\n",
    "from keras.models import Sequential\n",
    "from keras.layers import Dense\n"
   ]
  },
  {
   "cell_type": "code",
   "execution_count": 22,
   "metadata": {},
   "outputs": [
    {
     "name": "stderr",
     "output_type": "stream",
     "text": [
      "C:\\Users\\dhruv\\Anaconda3\\envs\\tfdeeplearning\\lib\\site-packages\\ipykernel_launcher.py:9: UserWarning: Update your `Dense` call to the Keras 2 API: `Dense(units=6, activation=\"relu\", input_dim=11, kernel_initializer=\"uniform\")`\n",
      "  if __name__ == '__main__':\n",
      "C:\\Users\\dhruv\\Anaconda3\\envs\\tfdeeplearning\\lib\\site-packages\\ipykernel_launcher.py:11: UserWarning: Update your `Dense` call to the Keras 2 API: `Dense(activation=\"relu\", units=6, kernel_initializer=\"uniform\")`\n",
      "  # This is added back by InteractiveShellApp.init_path()\n",
      "C:\\Users\\dhruv\\Anaconda3\\envs\\tfdeeplearning\\lib\\site-packages\\ipykernel_launcher.py:13: UserWarning: Update your `Dense` call to the Keras 2 API: `Dense(activation=\"sigmoid\", units=1, kernel_initializer=\"uniform\")`\n",
      "  del sys.path[0]\n"
     ]
    }
   ],
   "source": [
    " \n",
    "### our ANN build\n",
    "\n",
    "## classifier is our ANN model\n",
    "classifier = Sequential()\n",
    "## our dependent layer has only 2 values 0 &1 so output layer dim = 11+1/2 = 6\n",
    " ## uniform is initializing random uniform number close to 0 as weight for our nodes\n",
    " ## selecting activation as relu\n",
    "classifier.add(Dense(input_dim=11,output_dim=6,init='uniform',activation='relu',)) ## first hidden layer\n",
    "\n",
    "classifier.add(Dense(output_dim=6,init='uniform',activation='relu',)) ## second hidden layer\n",
    "\n",
    "classifier.add(Dense(output_dim=1,init='uniform',activation='sigmoid',)) ## output layer\n",
    " \n"
   ]
  },
  {
   "cell_type": "code",
   "execution_count": 23,
   "metadata": {},
   "outputs": [
    {
     "name": "stdout",
     "output_type": "stream",
     "text": [
      "Epoch 1/100\n",
      "8000/8000 [==============================] - 4s 544us/step - loss: 0.4838 - acc: 0.7960\n",
      "Epoch 2/100\n",
      "8000/8000 [==============================] - 2s 299us/step - loss: 0.4287 - acc: 0.7960\n",
      "Epoch 3/100\n",
      "8000/8000 [==============================] - 2s 290us/step - loss: 0.4235 - acc: 0.7960\n",
      "Epoch 4/100\n",
      "8000/8000 [==============================] - 2s 301us/step - loss: 0.4199 - acc: 0.8171\n",
      "Epoch 5/100\n",
      "8000/8000 [==============================] - 3s 325us/step - loss: 0.4175 - acc: 0.8249\n",
      "Epoch 6/100\n",
      "8000/8000 [==============================] - 2s 295us/step - loss: 0.4161 - acc: 0.8286\n",
      "Epoch 7/100\n",
      "8000/8000 [==============================] - 2s 303us/step - loss: 0.4137 - acc: 0.8320\n",
      "Epoch 8/100\n",
      "8000/8000 [==============================] - 2s 291us/step - loss: 0.4122 - acc: 0.8309\n",
      "Epoch 9/100\n",
      "8000/8000 [==============================] - 2s 266us/step - loss: 0.4109 - acc: 0.8331\n",
      "Epoch 10/100\n",
      "8000/8000 [==============================] - 2s 264us/step - loss: 0.4101 - acc: 0.8340\n",
      "Epoch 11/100\n",
      "8000/8000 [==============================] - 2s 295us/step - loss: 0.4091 - acc: 0.8332\n",
      "Epoch 12/100\n",
      "8000/8000 [==============================] - 2s 301us/step - loss: 0.4085 - acc: 0.8356\n",
      "Epoch 13/100\n",
      "8000/8000 [==============================] - 2s 265us/step - loss: 0.4075 - acc: 0.8341\n",
      "Epoch 14/100\n",
      "8000/8000 [==============================] - 2s 269us/step - loss: 0.4072 - acc: 0.8350\n",
      "Epoch 15/100\n",
      "8000/8000 [==============================] - 2s 253us/step - loss: 0.4071 - acc: 0.8352\n",
      "Epoch 16/100\n",
      "8000/8000 [==============================] - 2s 252us/step - loss: 0.4058 - acc: 0.8350\n",
      "Epoch 17/100\n",
      "8000/8000 [==============================] - 2s 254us/step - loss: 0.4055 - acc: 0.8355\n",
      "Epoch 18/100\n",
      "8000/8000 [==============================] - 2s 256us/step - loss: 0.4055 - acc: 0.8352\n",
      "Epoch 19/100\n",
      "8000/8000 [==============================] - 2s 287us/step - loss: 0.4048 - acc: 0.8339\n",
      "Epoch 20/100\n",
      "8000/8000 [==============================] - 2s 257us/step - loss: 0.4046 - acc: 0.8347\n",
      "Epoch 21/100\n",
      "8000/8000 [==============================] - 2s 288us/step - loss: 0.4043 - acc: 0.8352\n",
      "Epoch 22/100\n",
      "8000/8000 [==============================] - 2s 295us/step - loss: 0.4037 - acc: 0.8346\n",
      "Epoch 23/100\n",
      "8000/8000 [==============================] - 2s 302us/step - loss: 0.4040 - acc: 0.8356\n",
      "Epoch 24/100\n",
      "8000/8000 [==============================] - 2s 266us/step - loss: 0.4036 - acc: 0.8349\n",
      "Epoch 25/100\n",
      "8000/8000 [==============================] - 2s 274us/step - loss: 0.4022 - acc: 0.8337\n",
      "Epoch 26/100\n",
      "8000/8000 [==============================] - 2s 298us/step - loss: 0.4038 - acc: 0.8346\n",
      "Epoch 27/100\n",
      "8000/8000 [==============================] - 2s 263us/step - loss: 0.4033 - acc: 0.8345\n",
      "Epoch 28/100\n",
      "8000/8000 [==============================] - 2s 257us/step - loss: 0.4028 - acc: 0.8350\n",
      "Epoch 29/100\n",
      "8000/8000 [==============================] - 2s 275us/step - loss: 0.4027 - acc: 0.8332\n",
      "Epoch 30/100\n",
      "8000/8000 [==============================] - 2s 258us/step - loss: 0.4025 - acc: 0.8346\n",
      "Epoch 31/100\n",
      "8000/8000 [==============================] - 2s 255us/step - loss: 0.4028 - acc: 0.8354\n",
      "Epoch 32/100\n",
      "8000/8000 [==============================] - 2s 254us/step - loss: 0.4023 - acc: 0.8359\n",
      "Epoch 33/100\n",
      "8000/8000 [==============================] - 2s 265us/step - loss: 0.4023 - acc: 0.8336\n",
      "Epoch 34/100\n",
      "8000/8000 [==============================] - 2s 274us/step - loss: 0.4018 - acc: 0.8339\n",
      "Epoch 35/100\n",
      "8000/8000 [==============================] - 2s 257us/step - loss: 0.4021 - acc: 0.8347\n",
      "Epoch 36/100\n",
      "8000/8000 [==============================] - 2s 253us/step - loss: 0.4015 - acc: 0.8341\n",
      "Epoch 37/100\n",
      "8000/8000 [==============================] - 2s 253us/step - loss: 0.4018 - acc: 0.8356\n",
      "Epoch 38/100\n",
      "8000/8000 [==============================] - 2s 262us/step - loss: 0.4020 - acc: 0.8339\n",
      "Epoch 39/100\n",
      "8000/8000 [==============================] - 2s 271us/step - loss: 0.4017 - acc: 0.8341\n",
      "Epoch 40/100\n",
      "8000/8000 [==============================] - 2s 259us/step - loss: 0.4012 - acc: 0.8354\n",
      "Epoch 41/100\n",
      "8000/8000 [==============================] - ETA: 0s - loss: 0.4003 - acc: 0.836 - 2s 283us/step - loss: 0.4019 - acc: 0.8351\n",
      "Epoch 42/100\n",
      "8000/8000 [==============================] - 2s 264us/step - loss: 0.4011 - acc: 0.8360\n",
      "Epoch 43/100\n",
      "8000/8000 [==============================] - 2s 255us/step - loss: 0.4018 - acc: 0.8342\n",
      "Epoch 44/100\n",
      "8000/8000 [==============================] - 2s 268us/step - loss: 0.4014 - acc: 0.8361\n",
      "Epoch 45/100\n",
      "8000/8000 [==============================] - 2s 271us/step - loss: 0.4014 - acc: 0.8350\n",
      "Epoch 46/100\n",
      "8000/8000 [==============================] - 2s 261us/step - loss: 0.4008 - acc: 0.8340\n",
      "Epoch 47/100\n",
      "8000/8000 [==============================] - 2s 269us/step - loss: 0.4015 - acc: 0.8365\n",
      "Epoch 48/100\n",
      "8000/8000 [==============================] - 2s 271us/step - loss: 0.4012 - acc: 0.8352\n",
      "Epoch 49/100\n",
      "8000/8000 [==============================] - 2s 305us/step - loss: 0.4015 - acc: 0.8352\n",
      "Epoch 50/100\n",
      "8000/8000 [==============================] - 2s 283us/step - loss: 0.4008 - acc: 0.8355\n",
      "Epoch 51/100\n",
      "8000/8000 [==============================] - 2s 300us/step - loss: 0.4013 - acc: 0.8350\n",
      "Epoch 52/100\n",
      "8000/8000 [==============================] - 2s 282us/step - loss: 0.4012 - acc: 0.8347\n",
      "Epoch 53/100\n",
      "8000/8000 [==============================] - 2s 280us/step - loss: 0.4008 - acc: 0.8365\n",
      "Epoch 54/100\n",
      "8000/8000 [==============================] - 2s 294us/step - loss: 0.4015 - acc: 0.8351\n",
      "Epoch 55/100\n",
      "8000/8000 [==============================] - 2s 297us/step - loss: 0.4007 - acc: 0.8362\n",
      "Epoch 56/100\n",
      "8000/8000 [==============================] - 2s 305us/step - loss: 0.4009 - acc: 0.8346\n",
      "Epoch 57/100\n",
      "8000/8000 [==============================] - 2s 293us/step - loss: 0.4012 - acc: 0.8361\n",
      "Epoch 58/100\n",
      "8000/8000 [==============================] - 2s 306us/step - loss: 0.4015 - acc: 0.8345\n",
      "Epoch 59/100\n",
      "8000/8000 [==============================] - 2s 283us/step - loss: 0.4008 - acc: 0.8342\n",
      "Epoch 60/100\n",
      "8000/8000 [==============================] - 2s 281us/step - loss: 0.4010 - acc: 0.8350\n",
      "Epoch 61/100\n",
      "8000/8000 [==============================] - 2s 283us/step - loss: 0.4012 - acc: 0.8345\n",
      "Epoch 62/100\n",
      "8000/8000 [==============================] - 3s 320us/step - loss: 0.4011 - acc: 0.8346\n",
      "Epoch 63/100\n",
      "8000/8000 [==============================] - 3s 321us/step - loss: 0.4006 - acc: 0.8335\n",
      "Epoch 64/100\n",
      "8000/8000 [==============================] - 3s 318us/step - loss: 0.4006 - acc: 0.8340\n",
      "Epoch 65/100\n",
      "8000/8000 [==============================] - 2s 306us/step - loss: 0.4009 - acc: 0.8357\n",
      "Epoch 66/100\n",
      "8000/8000 [==============================] - 2s 287us/step - loss: 0.4003 - acc: 0.8342\n",
      "Epoch 67/100\n",
      "8000/8000 [==============================] - 2s 285us/step - loss: 0.4012 - acc: 0.8359\n",
      "Epoch 68/100\n",
      "8000/8000 [==============================] - 2s 279us/step - loss: 0.4008 - acc: 0.8349\n",
      "Epoch 69/100\n",
      "8000/8000 [==============================] - 2s 293us/step - loss: 0.4008 - acc: 0.8344\n",
      "Epoch 70/100\n",
      "8000/8000 [==============================] - 2s 258us/step - loss: 0.4004 - acc: 0.8342\n",
      "Epoch 71/100\n",
      "8000/8000 [==============================] - 2s 256us/step - loss: 0.4004 - acc: 0.8354\n",
      "Epoch 72/100\n",
      "8000/8000 [==============================] - 2s 262us/step - loss: 0.4010 - acc: 0.8344\n",
      "Epoch 73/100\n",
      "8000/8000 [==============================] - 2s 264us/step - loss: 0.4010 - acc: 0.8339\n",
      "Epoch 74/100\n",
      "8000/8000 [==============================] - 2s 264us/step - loss: 0.4009 - acc: 0.8346\n",
      "Epoch 75/100\n",
      "8000/8000 [==============================] - 2s 295us/step - loss: 0.4003 - acc: 0.8357\n",
      "Epoch 76/100\n",
      "8000/8000 [==============================] - 2s 306us/step - loss: 0.4008 - acc: 0.8351\n",
      "Epoch 77/100\n",
      "8000/8000 [==============================] - 2s 301us/step - loss: 0.4010 - acc: 0.8361\n",
      "Epoch 78/100\n",
      "8000/8000 [==============================] - 2s 258us/step - loss: 0.4005 - acc: 0.8342\n",
      "Epoch 79/100\n",
      "8000/8000 [==============================] - 2s 259us/step - loss: 0.4004 - acc: 0.8355\n",
      "Epoch 80/100\n",
      "8000/8000 [==============================] - 2s 257us/step - loss: 0.4009 - acc: 0.8326\n",
      "Epoch 81/100\n"
     ]
    },
    {
     "name": "stdout",
     "output_type": "stream",
     "text": [
      "8000/8000 [==============================] - 2s 238us/step - loss: 0.4003 - acc: 0.8354\n",
      "Epoch 82/100\n",
      "8000/8000 [==============================] - 2s 238us/step - loss: 0.4004 - acc: 0.8351\n",
      "Epoch 83/100\n",
      "8000/8000 [==============================] - 2s 238us/step - loss: 0.4005 - acc: 0.8345\n",
      "Epoch 84/100\n",
      "8000/8000 [==============================] - 2s 271us/step - loss: 0.4008 - acc: 0.8346\n",
      "Epoch 85/100\n",
      "8000/8000 [==============================] - 2s 241us/step - loss: 0.4004 - acc: 0.8349\n",
      "Epoch 86/100\n",
      "8000/8000 [==============================] - 2s 239us/step - loss: 0.4007 - acc: 0.8340\n",
      "Epoch 87/100\n",
      "8000/8000 [==============================] - 2s 240us/step - loss: 0.4005 - acc: 0.8352\n",
      "Epoch 88/100\n",
      "8000/8000 [==============================] - 2s 240us/step - loss: 0.4003 - acc: 0.8362\n",
      "Epoch 89/100\n",
      "8000/8000 [==============================] - 2s 239us/step - loss: 0.4005 - acc: 0.8350\n",
      "Epoch 90/100\n",
      "8000/8000 [==============================] - 2s 240us/step - loss: 0.4004 - acc: 0.8345\n",
      "Epoch 91/100\n",
      "8000/8000 [==============================] - 2s 241us/step - loss: 0.4008 - acc: 0.8351\n",
      "Epoch 92/100\n",
      "8000/8000 [==============================] - 2s 271us/step - loss: 0.4002 - acc: 0.8341\n",
      "Epoch 93/100\n",
      "8000/8000 [==============================] - 2s 245us/step - loss: 0.4004 - acc: 0.8341\n",
      "Epoch 94/100\n",
      "8000/8000 [==============================] - 2s 241us/step - loss: 0.3999 - acc: 0.8362\n",
      "Epoch 95/100\n",
      "8000/8000 [==============================] - 2s 244us/step - loss: 0.4008 - acc: 0.8345\n",
      "Epoch 96/100\n",
      "8000/8000 [==============================] - 2s 245us/step - loss: 0.4005 - acc: 0.8355\n",
      "Epoch 97/100\n",
      "8000/8000 [==============================] - 2s 243us/step - loss: 0.4005 - acc: 0.8335\n",
      "Epoch 98/100\n",
      "8000/8000 [==============================] - 2s 240us/step - loss: 0.4004 - acc: 0.8350\n",
      "Epoch 99/100\n",
      "8000/8000 [==============================] - 2s 238us/step - loss: 0.4006 - acc: 0.8354\n",
      "Epoch 100/100\n",
      "8000/8000 [==============================] - 2s 271us/step - loss: 0.4007 - acc: 0.8350\n"
     ]
    },
    {
     "data": {
      "text/plain": [
       "<keras.callbacks.History at 0x1eb4b43bdd8>"
      ]
     },
     "execution_count": 23,
     "metadata": {},
     "output_type": "execute_result"
    }
   ],
   "source": [
    "## generally we in  logistic we get log-loss as loss function\n",
    "## binary_crossentropy for binary classification\n",
    "## for more than 3 classification we would use categorical_crossentropy\n",
    "## metrics set to reach max accuracy\n",
    "classifier.compile(optimizer='adam',loss='binary_crossentropy',metrics =['accuracy'])\n",
    "\n",
    "\n",
    "classifier.fit(X_train,y_train,batch_size=10,epochs=100)\n"
   ]
  },
  {
   "cell_type": "code",
   "execution_count": 24,
   "metadata": {
    "collapsed": true
   },
   "outputs": [],
   "source": [
    " \n",
    "# Fitting classifier to the Training set\n",
    "# Create your classifier here\n",
    "\n",
    "# Predicting the Test set results\n",
    "y_pred = classifier.predict(X_test)  ### this pred method will return probabilities\n",
    "y_pred =(y_pred>0.5)\n",
    "# Making the Confusion Matrix\n",
    "from sklearn.metrics import confusion_matrix\n",
    "cm = confusion_matrix(y_test,y_pred)\n",
    "\n"
   ]
  },
  {
   "cell_type": "code",
   "execution_count": 25,
   "metadata": {},
   "outputs": [
    {
     "data": {
      "text/plain": [
       "array([[1534,   61],\n",
       "       [ 254,  151]], dtype=int64)"
      ]
     },
     "execution_count": 25,
     "metadata": {},
     "output_type": "execute_result"
    }
   ],
   "source": [
    "cm"
   ]
  },
  {
   "cell_type": "code",
   "execution_count": 31,
   "metadata": {},
   "outputs": [],
   "source": [
    "from sklearn.metrics import log_loss\n",
    "from sklearn.metrics import classification_report\n",
    "from sklearn.metrics import f1_score\n"
   ]
  },
  {
   "cell_type": "code",
   "execution_count": 33,
   "metadata": {},
   "outputs": [
    {
     "data": {
      "text/plain": [
       "0.4894651539708265"
      ]
     },
     "execution_count": 33,
     "metadata": {},
     "output_type": "execute_result"
    }
   ],
   "source": [
    "f1_score(y_test,y_pred)"
   ]
  },
  {
   "cell_type": "code",
   "execution_count": 36,
   "metadata": {},
   "outputs": [
    {
     "name": "stdout",
     "output_type": "stream",
     "text": [
      "              precision    recall  f1-score   support\n",
      "\n",
      "           0       0.86      0.96      0.91      1595\n",
      "           1       0.71      0.37      0.49       405\n",
      "\n",
      "   micro avg       0.84      0.84      0.84      2000\n",
      "   macro avg       0.79      0.67      0.70      2000\n",
      "weighted avg       0.83      0.84      0.82      2000\n",
      "\n"
     ]
    }
   ],
   "source": [
    "print(classification_report(y_test,y_pred))"
   ]
  },
  {
   "cell_type": "code",
   "execution_count": null,
   "metadata": {
    "collapsed": true
   },
   "outputs": [],
   "source": []
  }
 ],
 "metadata": {
  "kernelspec": {
   "display_name": "Python 3",
   "language": "python",
   "name": "python3"
  },
  "language_info": {
   "codemirror_mode": {
    "name": "ipython",
    "version": 3
   },
   "file_extension": ".py",
   "mimetype": "text/x-python",
   "name": "python",
   "nbconvert_exporter": "python",
   "pygments_lexer": "ipython3",
   "version": "3.5.6"
  }
 },
 "nbformat": 4,
 "nbformat_minor": 2
}
